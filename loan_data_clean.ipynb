{
 "cells": [
  {
   "cell_type": "code",
   "execution_count": 1,
   "id": "a77bb499",
   "metadata": {},
   "outputs": [],
   "source": [
    "from pyspark.sql import SparkSession"
   ]
  },
  {
   "cell_type": "code",
   "execution_count": 2,
   "id": "5e55b22c",
   "metadata": {},
   "outputs": [],
   "source": [
    "spark = SparkSession .\\\n",
    "builder .\\\n",
    "appName(\"spark\") .\\\n",
    "config(\"spark.sql.warehouse.dir\",\"/user/itv016843/warehouse\") .\\\n",
    "enableHiveSupport() .\\\n",
    "master(\"yarn\") .\\\n",
    "getOrCreate()"
   ]
  },
  {
   "cell_type": "code",
   "execution_count": 3,
   "id": "c0642497",
   "metadata": {},
   "outputs": [
    {
     "data": {
      "text/html": [
       "\n",
       "            <div>\n",
       "                <p><b>SparkSession - hive</b></p>\n",
       "                \n",
       "        <div>\n",
       "            <p><b>SparkContext</b></p>\n",
       "\n",
       "            <p><a href=\"http://g02.itversity.com:4044\">Spark UI</a></p>\n",
       "\n",
       "            <dl>\n",
       "              <dt>Version</dt>\n",
       "                <dd><code>v3.1.2</code></dd>\n",
       "              <dt>Master</dt>\n",
       "                <dd><code>yarn</code></dd>\n",
       "              <dt>AppName</dt>\n",
       "                <dd><code>spark</code></dd>\n",
       "            </dl>\n",
       "        </div>\n",
       "        \n",
       "            </div>\n",
       "        "
      ],
      "text/plain": [
       "<pyspark.sql.session.SparkSession at 0x7f173c615e10>"
      ]
     },
     "execution_count": 3,
     "metadata": {},
     "output_type": "execute_result"
    }
   ],
   "source": [
    "spark"
   ]
  },
  {
   "cell_type": "code",
   "execution_count": null,
   "id": "c5a4b25c",
   "metadata": {},
   "outputs": [],
   "source": []
  },
  {
   "cell_type": "code",
   "execution_count": 4,
   "id": "1343b58d",
   "metadata": {},
   "outputs": [],
   "source": [
    "from pyspark.sql.functions import *"
   ]
  },
  {
   "cell_type": "code",
   "execution_count": 5,
   "id": "e2c50b10",
   "metadata": {},
   "outputs": [],
   "source": [
    "from pyspark.sql import *"
   ]
  },
  {
   "cell_type": "code",
   "execution_count": null,
   "id": "163f4591",
   "metadata": {},
   "outputs": [],
   "source": []
  },
  {
   "cell_type": "code",
   "execution_count": 6,
   "id": "539e416a",
   "metadata": {},
   "outputs": [],
   "source": [
    "df1 = spark.read \\\n",
    ".format(\"csv\") \\\n",
    ".option(\"header\",True) \\\n",
    ".load(\"/public/trendytech/lendingclubproject/raw/loans_data_csv\")"
   ]
  },
  {
   "cell_type": "code",
   "execution_count": 7,
   "id": "edfb6ace",
   "metadata": {},
   "outputs": [
    {
     "data": {
      "text/html": [
       "<table border='1'>\n",
       "<tr><th>loan_id</th><th>member_id</th><th>loan_amnt</th><th>funded_amnt</th><th>term</th><th>int_rate</th><th>installment</th><th>issue_d</th><th>loan_status</th><th>purpose</th><th>title</th></tr>\n",
       "<tr><td>56633077</td><td>b59d80da191f5b573...</td><td>3000.0</td><td>3000.0</td><td>36 months</td><td>7.89</td><td>93.86</td><td>Aug-2015</td><td>Fully Paid</td><td>credit_card</td><td>Credit card refin...</td></tr>\n",
       "<tr><td>55927518</td><td>202d9f56ecb7c3bc9...</td><td>15600.0</td><td>15600.0</td><td>36 months</td><td>7.89</td><td>488.06</td><td>Aug-2015</td><td>Fully Paid</td><td>credit_card</td><td>Credit card refin...</td></tr>\n",
       "<tr><td>56473345</td><td>e5a140c0922b554b9...</td><td>20000.0</td><td>20000.0</td><td>36 months</td><td>9.17</td><td>637.58</td><td>Aug-2015</td><td>Fully Paid</td><td>debt_consolidation</td><td>Debt consolidation</td></tr>\n",
       "<tr><td>56463188</td><td>e12aefc548f750777...</td><td>11200.0</td><td>11200.0</td><td>60 months</td><td>21.99</td><td>309.27</td><td>Aug-2015</td><td>Fully Paid</td><td>home_improvement</td><td>Home improvement</td></tr>\n",
       "<tr><td>56473316</td><td>1b3a50d854fbbf97e...</td><td>16000.0</td><td>16000.0</td><td>60 months</td><td>20.99</td><td>432.77</td><td>Aug-2015</td><td>Charged Off</td><td>debt_consolidation</td><td>Debt consolidation</td></tr>\n",
       "</table>\n"
      ],
      "text/plain": [
       "+--------+--------------------+---------+-----------+---------+--------+-----------+--------+-----------+------------------+--------------------+\n",
       "| loan_id|           member_id|loan_amnt|funded_amnt|     term|int_rate|installment| issue_d|loan_status|           purpose|               title|\n",
       "+--------+--------------------+---------+-----------+---------+--------+-----------+--------+-----------+------------------+--------------------+\n",
       "|56633077|b59d80da191f5b573...|   3000.0|     3000.0|36 months|    7.89|      93.86|Aug-2015| Fully Paid|       credit_card|Credit card refin...|\n",
       "|55927518|202d9f56ecb7c3bc9...|  15600.0|    15600.0|36 months|    7.89|     488.06|Aug-2015| Fully Paid|       credit_card|Credit card refin...|\n",
       "|56473345|e5a140c0922b554b9...|  20000.0|    20000.0|36 months|    9.17|     637.58|Aug-2015| Fully Paid|debt_consolidation|  Debt consolidation|\n",
       "|56463188|e12aefc548f750777...|  11200.0|    11200.0|60 months|   21.99|     309.27|Aug-2015| Fully Paid|  home_improvement|    Home improvement|\n",
       "|56473316|1b3a50d854fbbf97e...|  16000.0|    16000.0|60 months|   20.99|     432.77|Aug-2015|Charged Off|debt_consolidation|  Debt consolidation|\n",
       "+--------+--------------------+---------+-----------+---------+--------+-----------+--------+-----------+------------------+--------------------+"
      ]
     },
     "execution_count": 7,
     "metadata": {},
     "output_type": "execute_result"
    }
   ],
   "source": [
    "df1.limit(5)"
   ]
  },
  {
   "cell_type": "code",
   "execution_count": 8,
   "id": "e5103fa6",
   "metadata": {},
   "outputs": [],
   "source": [
    "df2 = df1.withColumn(\"Time\",current_timestamp())"
   ]
  },
  {
   "cell_type": "code",
   "execution_count": 9,
   "id": "2a9250c8",
   "metadata": {},
   "outputs": [
    {
     "data": {
      "text/html": [
       "<table border='1'>\n",
       "<tr><th>loan_id</th><th>member_id</th><th>loan_amnt</th><th>funded_amnt</th><th>term</th><th>int_rate</th><th>installment</th><th>issue_d</th><th>loan_status</th><th>purpose</th><th>title</th><th>Time</th></tr>\n",
       "<tr><td>56633077</td><td>b59d80da191f5b573...</td><td>3000.0</td><td>3000.0</td><td>36 months</td><td>7.89</td><td>93.86</td><td>Aug-2015</td><td>Fully Paid</td><td>credit_card</td><td>Credit card refin...</td><td>2025-07-12 05:11:...</td></tr>\n",
       "<tr><td>55927518</td><td>202d9f56ecb7c3bc9...</td><td>15600.0</td><td>15600.0</td><td>36 months</td><td>7.89</td><td>488.06</td><td>Aug-2015</td><td>Fully Paid</td><td>credit_card</td><td>Credit card refin...</td><td>2025-07-12 05:11:...</td></tr>\n",
       "<tr><td>56473345</td><td>e5a140c0922b554b9...</td><td>20000.0</td><td>20000.0</td><td>36 months</td><td>9.17</td><td>637.58</td><td>Aug-2015</td><td>Fully Paid</td><td>debt_consolidation</td><td>Debt consolidation</td><td>2025-07-12 05:11:...</td></tr>\n",
       "<tr><td>56463188</td><td>e12aefc548f750777...</td><td>11200.0</td><td>11200.0</td><td>60 months</td><td>21.99</td><td>309.27</td><td>Aug-2015</td><td>Fully Paid</td><td>home_improvement</td><td>Home improvement</td><td>2025-07-12 05:11:...</td></tr>\n",
       "<tr><td>56473316</td><td>1b3a50d854fbbf97e...</td><td>16000.0</td><td>16000.0</td><td>60 months</td><td>20.99</td><td>432.77</td><td>Aug-2015</td><td>Charged Off</td><td>debt_consolidation</td><td>Debt consolidation</td><td>2025-07-12 05:11:...</td></tr>\n",
       "</table>\n"
      ],
      "text/plain": [
       "+--------+--------------------+---------+-----------+---------+--------+-----------+--------+-----------+------------------+--------------------+--------------------+\n",
       "| loan_id|           member_id|loan_amnt|funded_amnt|     term|int_rate|installment| issue_d|loan_status|           purpose|               title|                Time|\n",
       "+--------+--------------------+---------+-----------+---------+--------+-----------+--------+-----------+------------------+--------------------+--------------------+\n",
       "|56633077|b59d80da191f5b573...|   3000.0|     3000.0|36 months|    7.89|      93.86|Aug-2015| Fully Paid|       credit_card|Credit card refin...|2025-07-12 05:11:...|\n",
       "|55927518|202d9f56ecb7c3bc9...|  15600.0|    15600.0|36 months|    7.89|     488.06|Aug-2015| Fully Paid|       credit_card|Credit card refin...|2025-07-12 05:11:...|\n",
       "|56473345|e5a140c0922b554b9...|  20000.0|    20000.0|36 months|    9.17|     637.58|Aug-2015| Fully Paid|debt_consolidation|  Debt consolidation|2025-07-12 05:11:...|\n",
       "|56463188|e12aefc548f750777...|  11200.0|    11200.0|60 months|   21.99|     309.27|Aug-2015| Fully Paid|  home_improvement|    Home improvement|2025-07-12 05:11:...|\n",
       "|56473316|1b3a50d854fbbf97e...|  16000.0|    16000.0|60 months|   20.99|     432.77|Aug-2015|Charged Off|debt_consolidation|  Debt consolidation|2025-07-12 05:11:...|\n",
       "+--------+--------------------+---------+-----------+---------+--------+-----------+--------+-----------+------------------+--------------------+--------------------+"
      ]
     },
     "execution_count": 9,
     "metadata": {},
     "output_type": "execute_result"
    }
   ],
   "source": [
    "df2.limit(5)"
   ]
  },
  {
   "cell_type": "code",
   "execution_count": null,
   "id": "8c6efe3f",
   "metadata": {},
   "outputs": [],
   "source": []
  },
  {
   "cell_type": "code",
   "execution_count": 10,
   "id": "fc24259f",
   "metadata": {},
   "outputs": [],
   "source": [
    "df3 = df2.filter(\"loan_amnt is null\")"
   ]
  },
  {
   "cell_type": "code",
   "execution_count": 11,
   "id": "ff58451e",
   "metadata": {},
   "outputs": [],
   "source": [
    "columns = [\n",
    "    \"loan_id\",\n",
    "    \"loan_amnt\",\n",
    "    \"funded_amnt\",\n",
    "    \"term\",\n",
    "    \"int_rate\",\n",
    "    \"installment\",\n",
    "    \"issue_d\",\n",
    "    \"loan_status\",\n",
    "    \"purpose\",\n",
    "    \"title\"\n",
    "]"
   ]
  },
  {
   "cell_type": "code",
   "execution_count": null,
   "id": "fbb70cab",
   "metadata": {},
   "outputs": [],
   "source": []
  },
  {
   "cell_type": "code",
   "execution_count": 12,
   "id": "022ba5ec",
   "metadata": {},
   "outputs": [],
   "source": [
    "df4 = df2.na.drop(subset=columns,)"
   ]
  },
  {
   "cell_type": "code",
   "execution_count": 13,
   "id": "e432e2b9",
   "metadata": {},
   "outputs": [
    {
     "data": {
      "text/html": [
       "<table border='1'>\n",
       "<tr><th>loan_id</th><th>member_id</th><th>loan_amnt</th><th>funded_amnt</th><th>term</th><th>int_rate</th><th>installment</th><th>issue_d</th><th>loan_status</th><th>purpose</th><th>title</th><th>Time</th></tr>\n",
       "</table>\n"
      ],
      "text/plain": [
       "+-------+---------+---------+-----------+----+--------+-----------+-------+-----------+-------+-----+----+\n",
       "|loan_id|member_id|loan_amnt|funded_amnt|term|int_rate|installment|issue_d|loan_status|purpose|title|Time|\n",
       "+-------+---------+---------+-----------+----+--------+-----------+-------+-----------+-------+-----+----+\n",
       "+-------+---------+---------+-----------+----+--------+-----------+-------+-----------+-------+-----+----+"
      ]
     },
     "execution_count": 13,
     "metadata": {},
     "output_type": "execute_result"
    }
   ],
   "source": [
    "df4.filter(\"loan_amnt is null\")"
   ]
  },
  {
   "cell_type": "code",
   "execution_count": 14,
   "id": "bfb10dc5",
   "metadata": {},
   "outputs": [
    {
     "data": {
      "text/html": [
       "<table border='1'>\n",
       "<tr><th>loan_id</th><th>member_id</th><th>loan_amnt</th><th>funded_amnt</th><th>term</th><th>int_rate</th><th>installment</th><th>issue_d</th><th>loan_status</th><th>purpose</th><th>title</th><th>Time</th></tr>\n",
       "<tr><td>145499677</td><td>a703357afc7be3fe3...</td><td>10000.0</td><td>10000.0</td><td>36 months</td><td>8.19</td><td>314.25</td><td>Dec-2018</td><td>Fully Paid</td><td>debt_consolidation</td><td>Debt consolidation</td><td>2025-07-12 05:11:...</td></tr>\n",
       "<tr><td>144538467</td><td>a0c637c3df6764663...</td><td>5000.0</td><td>5000.0</td><td>36 months</td><td>15.02</td><td>173.38</td><td>Dec-2018</td><td>Current</td><td>other</td><td>Other</td><td>2025-07-12 05:11:...</td></tr>\n",
       "<tr><td>145515405</td><td>63571114d3a96e5bc...</td><td>7500.0</td><td>7500.0</td><td>36 months</td><td>10.33</td><td>243.17</td><td>Dec-2018</td><td>Current</td><td>debt_consolidation</td><td>Debt consolidation</td><td>2025-07-12 05:11:...</td></tr>\n",
       "<tr><td>145207340</td><td>4db14234c3f2f87c1...</td><td>20400.0</td><td>20400.0</td><td>60 months</td><td>16.14</td><td>497.61</td><td>Dec-2018</td><td>Current</td><td>home_improvement</td><td>Home improvement</td><td>2025-07-12 05:11:...</td></tr>\n",
       "<tr><td>145467050</td><td>88a6f97ff3afc51b6...</td><td>12000.0</td><td>12000.0</td><td>36 months</td><td>7.02</td><td>370.64</td><td>Dec-2018</td><td>Current</td><td>credit_card</td><td>Credit card refin...</td><td>2025-07-12 05:11:...</td></tr>\n",
       "</table>\n"
      ],
      "text/plain": [
       "+--------+--------------------+---------+-----------+---------+--------+-----------+--------+-----------+------------------+--------------------+--------------------+\n",
       "| loan_id|           member_id|loan_amnt|funded_amnt|     term|int_rate|installment| issue_d|loan_status|           purpose|               title|                Time|\n",
       "+--------+--------------------+---------+-----------+---------+--------+-----------+--------+-----------+------------------+--------------------+--------------------+\n",
       "|56633077|b59d80da191f5b573...|   3000.0|     3000.0|36 months|    7.89|      93.86|Aug-2015| Fully Paid|       credit_card|Credit card refin...|2025-07-12 05:11:...|\n",
       "|55927518|202d9f56ecb7c3bc9...|  15600.0|    15600.0|36 months|    7.89|     488.06|Aug-2015| Fully Paid|       credit_card|Credit card refin...|2025-07-12 05:11:...|\n",
       "|56473345|e5a140c0922b554b9...|  20000.0|    20000.0|36 months|    9.17|     637.58|Aug-2015| Fully Paid|debt_consolidation|  Debt consolidation|2025-07-12 05:11:...|\n",
       "|56463188|e12aefc548f750777...|  11200.0|    11200.0|60 months|   21.99|     309.27|Aug-2015| Fully Paid|  home_improvement|    Home improvement|2025-07-12 05:11:...|\n",
       "|56473316|1b3a50d854fbbf97e...|  16000.0|    16000.0|60 months|   20.99|     432.77|Aug-2015|Charged Off|debt_consolidation|  Debt consolidation|2025-07-12 05:11:...|\n",
       "+--------+--------------------+---------+-----------+---------+--------+-----------+--------+-----------+------------------+--------------------+--------------------+"
      ]
     },
     "execution_count": 14,
     "metadata": {},
     "output_type": "execute_result"
    }
   ],
   "source": [
    "df4.limit(5)"
   ]
  },
  {
   "cell_type": "code",
   "execution_count": 15,
   "id": "112a49f6",
   "metadata": {},
   "outputs": [],
   "source": [
    "df5 = df4.withColumn(\n",
    "    \"term\",\n",
    "    (regexp_replace(col(\"term\"), \" months\", \"\").cast(\"int\") / 12).cast(\"int\")\n",
    ")"
   ]
  },
  {
   "cell_type": "code",
   "execution_count": 16,
   "id": "f0628b53",
   "metadata": {},
   "outputs": [
    {
     "data": {
      "text/html": [
       "<table border='1'>\n",
       "<tr><th>loan_id</th><th>member_id</th><th>loan_amnt</th><th>funded_amnt</th><th>term</th><th>int_rate</th><th>installment</th><th>issue_d</th><th>loan_status</th><th>purpose</th><th>title</th><th>Time</th></tr>\n",
       "<tr><td>56633077</td><td>b59d80da191f5b573...</td><td>3000.0</td><td>3000.0</td><td>3</td><td>7.89</td><td>93.86</td><td>Aug-2015</td><td>Fully Paid</td><td>credit_card</td><td>Credit card refin...</td><td>2025-07-12 05:11:...</td></tr>\n",
       "<tr><td>55927518</td><td>202d9f56ecb7c3bc9...</td><td>15600.0</td><td>15600.0</td><td>3</td><td>7.89</td><td>488.06</td><td>Aug-2015</td><td>Fully Paid</td><td>credit_card</td><td>Credit card refin...</td><td>2025-07-12 05:11:...</td></tr>\n",
       "<tr><td>56473345</td><td>e5a140c0922b554b9...</td><td>20000.0</td><td>20000.0</td><td>3</td><td>9.17</td><td>637.58</td><td>Aug-2015</td><td>Fully Paid</td><td>debt_consolidation</td><td>Debt consolidation</td><td>2025-07-12 05:11:...</td></tr>\n",
       "<tr><td>56463188</td><td>e12aefc548f750777...</td><td>11200.0</td><td>11200.0</td><td>5</td><td>21.99</td><td>309.27</td><td>Aug-2015</td><td>Fully Paid</td><td>home_improvement</td><td>Home improvement</td><td>2025-07-12 05:11:...</td></tr>\n",
       "<tr><td>56473316</td><td>1b3a50d854fbbf97e...</td><td>16000.0</td><td>16000.0</td><td>5</td><td>20.99</td><td>432.77</td><td>Aug-2015</td><td>Charged Off</td><td>debt_consolidation</td><td>Debt consolidation</td><td>2025-07-12 05:11:...</td></tr>\n",
       "</table>\n"
      ],
      "text/plain": [
       "+---------+--------------------+---------+-----------+----+--------+-----------+--------+-----------+------------------+--------------------+--------------------+\n",
       "|  loan_id|           member_id|loan_amnt|funded_amnt|term|int_rate|installment| issue_d|loan_status|           purpose|               title|                Time|\n",
       "+---------+--------------------+---------+-----------+----+--------+-----------+--------+-----------+------------------+--------------------+--------------------+\n",
       "|145499677|a703357afc7be3fe3...|  10000.0|    10000.0|   3|    8.19|     314.25|Dec-2018| Fully Paid|debt_consolidation|  Debt consolidation|2025-07-12 05:11:...|\n",
       "|144538467|a0c637c3df6764663...|   5000.0|     5000.0|   3|   15.02|     173.38|Dec-2018|    Current|             other|               Other|2025-07-12 05:11:...|\n",
       "|145515405|63571114d3a96e5bc...|   7500.0|     7500.0|   3|   10.33|     243.17|Dec-2018|    Current|debt_consolidation|  Debt consolidation|2025-07-12 05:11:...|\n",
       "|145207340|4db14234c3f2f87c1...|  20400.0|    20400.0|   5|   16.14|     497.61|Dec-2018|    Current|  home_improvement|    Home improvement|2025-07-12 05:11:...|\n",
       "|145467050|88a6f97ff3afc51b6...|  12000.0|    12000.0|   3|    7.02|     370.64|Dec-2018|    Current|       credit_card|Credit card refin...|2025-07-12 05:11:...|\n",
       "+---------+--------------------+---------+-----------+----+--------+-----------+--------+-----------+------------------+--------------------+--------------------+"
      ]
     },
     "execution_count": 16,
     "metadata": {},
     "output_type": "execute_result"
    }
   ],
   "source": [
    "df5.limit(5)"
   ]
  },
  {
   "cell_type": "code",
   "execution_count": 17,
   "id": "65307cf0",
   "metadata": {},
   "outputs": [],
   "source": [
    "df6 = df5.groupBy(\"purpose\").count().sort(\"count\",ascending= False)"
   ]
  },
  {
   "cell_type": "code",
   "execution_count": 24,
   "id": "dd8b635a",
   "metadata": {},
   "outputs": [
    {
     "data": {
      "text/html": [
       "<table border='1'>\n",
       "<tr><th>purpose</th><th>count</th></tr>\n",
       "<tr><td>debt_consolidation</td><td>1263422</td></tr>\n",
       "<tr><td>credit_card</td><td>511459</td></tr>\n",
       "<tr><td>home_improvement</td><td>149141</td></tr>\n",
       "<tr><td>other</td><td>138623</td></tr>\n",
       "<tr><td>major_purchase</td><td>50050</td></tr>\n",
       "<tr><td>medical</td><td>27247</td></tr>\n",
       "<tr><td>small_business</td><td>24416</td></tr>\n",
       "<tr><td>car</td><td>23815</td></tr>\n",
       "<tr><td>vacation</td><td>15373</td></tr>\n",
       "<tr><td>moving</td><td>15297</td></tr>\n",
       "<tr><td>house</td><td>14051</td></tr>\n",
       "<tr><td>wedding</td><td>2351</td></tr>\n",
       "<tr><td>renewable_energy</td><td>1433</td></tr>\n",
       "<tr><td>educational</td><td>410</td></tr>\n",
       "<tr><td>I became his prim...</td><td>1</td></tr>\n",
       "<tr><td>putting together ...</td><td>1</td></tr>\n",
       "<tr><td>brakes</td><td>1</td></tr>\n",
       "<tr><td>&lt;br/&gt;&lt;br/&gt;Lending...</td><td>1</td></tr>\n",
       "<tr><td>on one of the bus...</td><td>1</td></tr>\n",
       "<tr><td>because of the na...</td><td>1</td></tr>\n",
       "</table>\n",
       "only showing top 20 rows\n"
      ],
      "text/plain": [
       "DataFrame[purpose: string, count: bigint]"
      ]
     },
     "execution_count": 24,
     "metadata": {},
     "output_type": "execute_result"
    }
   ],
   "source": [
    "df6"
   ]
  },
  {
   "cell_type": "code",
   "execution_count": 25,
   "id": "f2eb65f1",
   "metadata": {},
   "outputs": [],
   "source": [
    "loan_purposes = [\n",
    "    \"debt_consolidation\",\n",
    "    \"credit_card\",\n",
    "    \"home_improvement\",\n",
    "    \"other\",\n",
    "    \"major_purchase\",\n",
    "    \"medical\",\n",
    "    \"small_business\",\n",
    "    \"car\",\n",
    "    \"vacation\",\n",
    "    \"moving\",\n",
    "    \"house\",\n",
    "    \"wedding\",\n",
    "    \"renewable_energy\",\n",
    "    \"educational\"\n",
    "]"
   ]
  },
  {
   "cell_type": "code",
   "execution_count": 26,
   "id": "f8603bdc",
   "metadata": {},
   "outputs": [
    {
     "data": {
      "text/html": [
       "<table border='1'>\n",
       "<tr><th>loan_id</th><th>member_id</th><th>loan_amnt</th><th>funded_amnt</th><th>term</th><th>int_rate</th><th>installment</th><th>issue_d</th><th>loan_status</th><th>purpose</th><th>title</th><th>Time</th></tr>\n",
       "<tr><td>91609139</td><td>f4d5593aeb85f0302...</td><td>2800.0</td><td>2800.0</td><td>3</td><td>10.49</td><td>91.0</td><td>Oct-2016</td><td>Fully Paid</td><td>car</td><td>Car financing</td><td>2025-07-12 05:11:...</td></tr>\n",
       "<tr><td>91302887</td><td>2a6b46e98f2f63710...</td><td>8000.0</td><td>8000.0</td><td>3</td><td>13.49</td><td>271.45</td><td>Oct-2016</td><td>Fully Paid</td><td>credit_card</td><td>Credit card refin...</td><td>2025-07-12 05:11:...</td></tr>\n",
       "<tr><td>91313928</td><td>2aaeecbb0cb90f9a5...</td><td>8000.0</td><td>8000.0</td><td>3</td><td>16.99</td><td>285.19</td><td>Oct-2016</td><td>Charged Off</td><td>moving</td><td>Moving and reloca...</td><td>2025-07-12 05:11:...</td></tr>\n",
       "<tr><td>91343295</td><td>064393f5934a2eca2...</td><td>10125.0</td><td>10125.0</td><td>3</td><td>11.49</td><td>333.84</td><td>Oct-2016</td><td>Charged Off</td><td>credit_card</td><td>Credit card refin...</td><td>2025-07-12 05:11:...</td></tr>\n",
       "<tr><td>91503678</td><td>5461aa5fb52d7380e...</td><td>18000.0</td><td>18000.0</td><td>3</td><td>6.99</td><td>555.71</td><td>Oct-2016</td><td>Fully Paid</td><td>debt_consolidation</td><td>Debt consolidation</td><td>2025-07-12 05:11:...</td></tr>\n",
       "</table>\n"
      ],
      "text/plain": [
       "+--------+--------------------+---------+-----------+----+--------+-----------+--------+-----------+------------------+--------------------+--------------------+\n",
       "| loan_id|           member_id|loan_amnt|funded_amnt|term|int_rate|installment| issue_d|loan_status|           purpose|               title|                Time|\n",
       "+--------+--------------------+---------+-----------+----+--------+-----------+--------+-----------+------------------+--------------------+--------------------+\n",
       "|13048578|ae2a45f96691a33e2...|  30000.0|    30000.0|   5|   22.45|     836.27|Mar-2014| Fully Paid|debt_consolidation|  Debt consolidation|2025-07-12 05:11:...|\n",
       "|13028587|bc56a941d1b4a0ded...|   3500.0|     3500.0|   3|   13.65|     119.03|Mar-2014| Fully Paid|debt_consolidation|  Debt consolidation|2025-07-12 05:11:...|\n",
       "|13048646|ec235820c5f579fe6...|  20000.0|    20000.0|   5|   18.92|     517.94|Apr-2014|Charged Off|           medical|    Medical expenses|2025-07-12 05:11:...|\n",
       "|13045633|87c71f39b975e9b1c...|  10000.0|    10000.0|   5|   15.61|     241.12|Mar-2014| Fully Paid|       credit_card|Credit card refin...|2025-07-12 05:11:...|\n",
       "|13018547|8ce13bae24094c318...|  30000.0|    30000.0|   5|   19.99|     794.65|Mar-2014| Fully Paid|debt_consolidation|  Debt consolidation|2025-07-12 05:11:...|\n",
       "+--------+--------------------+---------+-----------+----+--------+-----------+--------+-----------+------------------+--------------------+--------------------+"
      ]
     },
     "execution_count": 26,
     "metadata": {},
     "output_type": "execute_result"
    }
   ],
   "source": [
    "df5.limit(5)"
   ]
  },
  {
   "cell_type": "code",
   "execution_count": 27,
   "id": "e7c7384b",
   "metadata": {},
   "outputs": [],
   "source": [
    "df7 = df5.withColumn(\"purpose\",\n",
    "                    \n",
    "                when(col(\"purpose\").isin(loan_purposes),col(\"purpose\")).otherwise(\"other\")\n",
    "                      \n",
    "                    )"
   ]
  },
  {
   "cell_type": "code",
   "execution_count": 31,
   "id": "42d6d2fa",
   "metadata": {},
   "outputs": [
    {
     "data": {
      "text/html": [
       "<table border='1'>\n",
       "<tr><th>loan_id</th><th>member_id</th><th>loan_amnt</th><th>funded_amnt</th><th>term</th><th>int_rate</th><th>installment</th><th>issue_d</th><th>loan_status</th><th>purpose</th><th>title</th><th>Time</th></tr>\n",
       "<tr><td>91609139</td><td>f4d5593aeb85f0302...</td><td>2800.0</td><td>2800.0</td><td>3</td><td>10.49</td><td>91.0</td><td>Oct-2016</td><td>Fully Paid</td><td>car</td><td>Car financing</td><td>2025-07-12 05:12:...</td></tr>\n",
       "<tr><td>91302887</td><td>2a6b46e98f2f63710...</td><td>8000.0</td><td>8000.0</td><td>3</td><td>13.49</td><td>271.45</td><td>Oct-2016</td><td>Fully Paid</td><td>credit_card</td><td>Credit card refin...</td><td>2025-07-12 05:12:...</td></tr>\n",
       "<tr><td>91313928</td><td>2aaeecbb0cb90f9a5...</td><td>8000.0</td><td>8000.0</td><td>3</td><td>16.99</td><td>285.19</td><td>Oct-2016</td><td>Charged Off</td><td>moving</td><td>Moving and reloca...</td><td>2025-07-12 05:12:...</td></tr>\n",
       "<tr><td>91343295</td><td>064393f5934a2eca2...</td><td>10125.0</td><td>10125.0</td><td>3</td><td>11.49</td><td>333.84</td><td>Oct-2016</td><td>Charged Off</td><td>credit_card</td><td>Credit card refin...</td><td>2025-07-12 05:12:...</td></tr>\n",
       "<tr><td>91503678</td><td>5461aa5fb52d7380e...</td><td>18000.0</td><td>18000.0</td><td>3</td><td>6.99</td><td>555.71</td><td>Oct-2016</td><td>Fully Paid</td><td>debt_consolidation</td><td>Debt consolidation</td><td>2025-07-12 05:12:...</td></tr>\n",
       "</table>\n"
      ],
      "text/plain": [
       "+--------+--------------------+---------+-----------+----+--------+-----------+--------+-----------+------------------+--------------------+--------------------+\n",
       "| loan_id|           member_id|loan_amnt|funded_amnt|term|int_rate|installment| issue_d|loan_status|           purpose|               title|                Time|\n",
       "+--------+--------------------+---------+-----------+----+--------+-----------+--------+-----------+------------------+--------------------+--------------------+\n",
       "|91609139|f4d5593aeb85f0302...|   2800.0|     2800.0|   3|   10.49|       91.0|Oct-2016| Fully Paid|               car|       Car financing|2025-07-12 05:12:...|\n",
       "|91302887|2a6b46e98f2f63710...|   8000.0|     8000.0|   3|   13.49|     271.45|Oct-2016| Fully Paid|       credit_card|Credit card refin...|2025-07-12 05:12:...|\n",
       "|91313928|2aaeecbb0cb90f9a5...|   8000.0|     8000.0|   3|   16.99|     285.19|Oct-2016|Charged Off|            moving|Moving and reloca...|2025-07-12 05:12:...|\n",
       "|91343295|064393f5934a2eca2...|  10125.0|    10125.0|   3|   11.49|     333.84|Oct-2016|Charged Off|       credit_card|Credit card refin...|2025-07-12 05:12:...|\n",
       "|91503678|5461aa5fb52d7380e...|  18000.0|    18000.0|   3|    6.99|     555.71|Oct-2016| Fully Paid|debt_consolidation|  Debt consolidation|2025-07-12 05:12:...|\n",
       "+--------+--------------------+---------+-----------+----+--------+-----------+--------+-----------+------------------+--------------------+--------------------+"
      ]
     },
     "execution_count": 31,
     "metadata": {},
     "output_type": "execute_result"
    }
   ],
   "source": [
    "df7.limit(5)"
   ]
  },
  {
   "cell_type": "code",
   "execution_count": null,
   "id": "f3d501ff",
   "metadata": {},
   "outputs": [],
   "source": [
    "df7.groupBy(\"purpose\").count().sort(\"count\",ascending=False)"
   ]
  },
  {
   "cell_type": "code",
   "execution_count": null,
   "id": "737b3470",
   "metadata": {},
   "outputs": [],
   "source": []
  },
  {
   "cell_type": "code",
   "execution_count": null,
   "id": "ed557348",
   "metadata": {},
   "outputs": [],
   "source": []
  }
 ],
 "metadata": {
  "kernelspec": {
   "display_name": "Pyspark 3",
   "language": "python",
   "name": "pyspark3"
  },
  "language_info": {
   "codemirror_mode": {
    "name": "ipython",
    "version": 3
   },
   "file_extension": ".py",
   "mimetype": "text/x-python",
   "name": "python",
   "nbconvert_exporter": "python",
   "pygments_lexer": "ipython3",
   "version": "3.6.12"
  }
 },
 "nbformat": 4,
 "nbformat_minor": 5
}
