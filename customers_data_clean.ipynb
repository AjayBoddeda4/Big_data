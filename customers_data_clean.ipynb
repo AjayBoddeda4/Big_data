{
 "cells": [
  {
   "cell_type": "code",
   "execution_count": 13,
   "id": "fbb705ef",
   "metadata": {},
   "outputs": [],
   "source": [
    "from pyspark.sql import SparkSession"
   ]
  },
  {
   "cell_type": "code",
   "execution_count": 14,
   "id": "8369887e",
   "metadata": {},
   "outputs": [],
   "source": [
    "spark = SparkSession .\\\n",
    "builder .\\\n",
    "appName(\"spark\") .\\\n",
    "config(\"spark.sql.warehouse.dir\",\"/user/itv016843/warehouse\") .\\\n",
    "enableHiveSupport() .\\\n",
    "master(\"yarn\") .\\\n",
    "getOrCreate()"
   ]
  },
  {
   "cell_type": "code",
   "execution_count": 15,
   "id": "4732b4da",
   "metadata": {},
   "outputs": [
    {
     "data": {
      "text/html": [
       "\n",
       "            <div>\n",
       "                <p><b>SparkSession - hive</b></p>\n",
       "                \n",
       "        <div>\n",
       "            <p><b>SparkContext</b></p>\n",
       "\n",
       "            <p><a href=\"http://g02.itversity.com:4040\">Spark UI</a></p>\n",
       "\n",
       "            <dl>\n",
       "              <dt>Version</dt>\n",
       "                <dd><code>v3.1.2</code></dd>\n",
       "              <dt>Master</dt>\n",
       "                <dd><code>yarn</code></dd>\n",
       "              <dt>AppName</dt>\n",
       "                <dd><code>spark</code></dd>\n",
       "            </dl>\n",
       "        </div>\n",
       "        \n",
       "            </div>\n",
       "        "
      ],
      "text/plain": [
       "<pyspark.sql.session.SparkSession at 0x7fd89f938400>"
      ]
     },
     "execution_count": 15,
     "metadata": {},
     "output_type": "execute_result"
    }
   ],
   "source": [
    "spark"
   ]
  },
  {
   "cell_type": "code",
   "execution_count": null,
   "id": "817f8f79",
   "metadata": {},
   "outputs": [],
   "source": []
  },
  {
   "cell_type": "code",
   "execution_count": null,
   "id": "39bc0d94",
   "metadata": {},
   "outputs": [],
   "source": []
  },
  {
   "cell_type": "code",
   "execution_count": 16,
   "id": "8ab21665",
   "metadata": {},
   "outputs": [
    {
     "name": "stdout",
     "output_type": "stream",
     "text": [
      "Found 4 items\n",
      "drwxr-xr-x   - itv005857 supergroup          0 2023-09-15 14:40 /public/trendytech/lendingclubproject/raw/customers_data_csv\n",
      "drwxr-xr-x   - itv005857 supergroup          0 2023-09-17 22:57 /public/trendytech/lendingclubproject/raw/loans_data_csv\n",
      "drwxr-xr-x   - itv005857 supergroup          0 2023-09-18 07:32 /public/trendytech/lendingclubproject/raw/loans_defaulters_csv\n",
      "drwxr-xr-x   - itv005857 supergroup          0 2023-09-18 07:31 /public/trendytech/lendingclubproject/raw/loans_repayments_csv\n"
     ]
    }
   ],
   "source": [
    "! hadoop fs -ls /public/trendytech/lendingclubproject/raw"
   ]
  },
  {
   "cell_type": "code",
   "execution_count": null,
   "id": "421b7637",
   "metadata": {},
   "outputs": [],
   "source": []
  },
  {
   "cell_type": "code",
   "execution_count": 17,
   "id": "d709a9bb",
   "metadata": {},
   "outputs": [],
   "source": [
    "from pyspark.sql.functions import *"
   ]
  },
  {
   "cell_type": "code",
   "execution_count": 18,
   "id": "e62f0e5d",
   "metadata": {},
   "outputs": [],
   "source": [
    "from pyspark.sql import *"
   ]
  },
  {
   "cell_type": "code",
   "execution_count": null,
   "id": "94eddca5",
   "metadata": {},
   "outputs": [],
   "source": []
  },
  {
   "cell_type": "code",
   "execution_count": 19,
   "id": "176ab317",
   "metadata": {},
   "outputs": [],
   "source": [
    "df1 = spark.read \\\n",
    ".format(\"csv\") \\\n",
    ".option(\"header\",True) \\\n",
    ".load(\"/public/trendytech/lendingclubproject/raw/loans_repayments_csv\")"
   ]
  },
  {
   "cell_type": "code",
   "execution_count": 20,
   "id": "832ed648",
   "metadata": {},
   "outputs": [
    {
     "data": {
      "text/html": [
       "<table border='1'>\n",
       "<tr><th>loan_id</th><th>total_rec_prncp</th><th>total_rec_int</th><th>total_rec_late_fee</th><th>total_pymnt</th><th>last_pymnt_amnt</th><th>last_pymnt_d</th><th>next_pymnt_d</th></tr>\n",
       "<tr><td>141581221</td><td>1055.81</td><td>2591.7</td><td>0.0</td><td>3647.51</td><td>709.23</td><td>Mar-2019</td><td>Apr-2019</td></tr>\n",
       "<tr><td>141506948</td><td>1252.75</td><td>306.04</td><td>0.0</td><td>1558.79</td><td>312.63</td><td>Mar-2019</td><td>Apr-2019</td></tr>\n",
       "<tr><td>141357400</td><td>626.37</td><td>354.96</td><td>0.0</td><td>981.33</td><td>197.27</td><td>Mar-2019</td><td>Apr-2019</td></tr>\n",
       "<tr><td>139445427</td><td>1118.16</td><td>297.36</td><td>0.0</td><td>1415.52</td><td>283.95</td><td>Mar-2019</td><td>Apr-2019</td></tr>\n",
       "<tr><td>141407409</td><td>1169.72</td><td>3605.3</td><td>0.0</td><td>4775.02</td><td>964.9</td><td>Mar-2019</td><td>Apr-2019</td></tr>\n",
       "</table>\n"
      ],
      "text/plain": [
       "+---------+---------------+-------------+------------------+-----------+---------------+------------+------------+\n",
       "|  loan_id|total_rec_prncp|total_rec_int|total_rec_late_fee|total_pymnt|last_pymnt_amnt|last_pymnt_d|next_pymnt_d|\n",
       "+---------+---------------+-------------+------------------+-----------+---------------+------------+------------+\n",
       "|141581221|        1055.81|       2591.7|               0.0|    3647.51|         709.23|    Mar-2019|    Apr-2019|\n",
       "|141506948|        1252.75|       306.04|               0.0|    1558.79|         312.63|    Mar-2019|    Apr-2019|\n",
       "|141357400|         626.37|       354.96|               0.0|     981.33|         197.27|    Mar-2019|    Apr-2019|\n",
       "|139445427|        1118.16|       297.36|               0.0|    1415.52|         283.95|    Mar-2019|    Apr-2019|\n",
       "|141407409|        1169.72|       3605.3|               0.0|    4775.02|          964.9|    Mar-2019|    Apr-2019|\n",
       "+---------+---------------+-------------+------------------+-----------+---------------+------------+------------+"
      ]
     },
     "execution_count": 20,
     "metadata": {},
     "output_type": "execute_result"
    }
   ],
   "source": [
    "df1.limit(5)"
   ]
  },
  {
   "cell_type": "code",
   "execution_count": 21,
   "id": "87a46075",
   "metadata": {},
   "outputs": [],
   "source": [
    "df2 = df1.withColumn(\"Time\",current_timestamp())"
   ]
  },
  {
   "cell_type": "code",
   "execution_count": 22,
   "id": "dee9c97c",
   "metadata": {},
   "outputs": [
    {
     "data": {
      "text/html": [
       "<table border='1'>\n",
       "<tr><th>loan_id</th><th>total_rec_prncp</th><th>total_rec_int</th><th>total_rec_late_fee</th><th>total_pymnt</th><th>last_pymnt_amnt</th><th>last_pymnt_d</th><th>next_pymnt_d</th><th>Time</th></tr>\n",
       "<tr><td>28674390</td><td>7884.28</td><td>5178.41</td><td>0.0</td><td>14329.62</td><td>482.23</td><td>Nov-2016</td><td>null</td><td>2025-07-12 08:49:...</td></tr>\n",
       "<tr><td>28563513</td><td>9000.0</td><td>955.61</td><td>0.0</td><td>9955.61</td><td>6420.29</td><td>Nov-2015</td><td>null</td><td>2025-07-12 08:49:...</td></tr>\n",
       "<tr><td>28694706</td><td>22125.0</td><td>751.39</td><td>0.0</td><td>22876.39</td><td>22073.85</td><td>Dec-2014</td><td>null</td><td>2025-07-12 08:49:...</td></tr>\n",
       "<tr><td>28722876</td><td>3196.23</td><td>1259.77</td><td>0.0</td><td>4639.79</td><td>178.24</td><td>Nov-2016</td><td>null</td><td>2025-07-12 08:49:...</td></tr>\n",
       "<tr><td>28644402</td><td>26400.0</td><td>2150.7</td><td>0.0</td><td>28550.7</td><td>19292.99</td><td>Oct-2015</td><td>null</td><td>2025-07-12 08:49:...</td></tr>\n",
       "</table>\n"
      ],
      "text/plain": [
       "+---------+---------------+-------------+------------------+-----------+---------------+------------+------------+--------------------+\n",
       "|  loan_id|total_rec_prncp|total_rec_int|total_rec_late_fee|total_pymnt|last_pymnt_amnt|last_pymnt_d|next_pymnt_d|                Time|\n",
       "+---------+---------------+-------------+------------------+-----------+---------------+------------+------------+--------------------+\n",
       "|141581221|        1055.81|       2591.7|               0.0|    3647.51|         709.23|    Mar-2019|    Apr-2019|2025-07-12 08:49:...|\n",
       "|141506948|        1252.75|       306.04|               0.0|    1558.79|         312.63|    Mar-2019|    Apr-2019|2025-07-12 08:49:...|\n",
       "|141357400|         626.37|       354.96|               0.0|     981.33|         197.27|    Mar-2019|    Apr-2019|2025-07-12 08:49:...|\n",
       "|139445427|        1118.16|       297.36|               0.0|    1415.52|         283.95|    Mar-2019|    Apr-2019|2025-07-12 08:49:...|\n",
       "|141407409|        1169.72|       3605.3|               0.0|    4775.02|          964.9|    Mar-2019|    Apr-2019|2025-07-12 08:49:...|\n",
       "+---------+---------------+-------------+------------------+-----------+---------------+------------+------------+--------------------+"
      ]
     },
     "execution_count": 22,
     "metadata": {},
     "output_type": "execute_result"
    }
   ],
   "source": [
    "df2.limit(5)"
   ]
  },
  {
   "cell_type": "code",
   "execution_count": null,
   "id": "a7d7eb37",
   "metadata": {},
   "outputs": [],
   "source": []
  },
  {
   "cell_type": "code",
   "execution_count": 23,
   "id": "9700dd7b",
   "metadata": {},
   "outputs": [],
   "source": [
    "df3 = df2.filter(\"total_pymnt is null\").count()"
   ]
  },
  {
   "cell_type": "code",
   "execution_count": 24,
   "id": "5a99ab7b",
   "metadata": {},
   "outputs": [
    {
     "data": {
      "text/plain": [
       "46"
      ]
     },
     "execution_count": 24,
     "metadata": {},
     "output_type": "execute_result"
    }
   ],
   "source": [
    "df3"
   ]
  },
  {
   "cell_type": "code",
   "execution_count": 25,
   "id": "1509f7d4",
   "metadata": {},
   "outputs": [],
   "source": [
    "columns = [\n",
    "    \"loan_id\",\n",
    "    \"total_rec_prncp\",\n",
    "    \"total_rec_int\",\n",
    "    \"total_rec_late_fee\",\n",
    "    \"total_pymnt\",\n",
    "    \"last_pymnt_amnt\",\n",
    "    \"last_pymnt_d\",\n",
    "    \"next_pymnt_d\"\n",
    "]"
   ]
  },
  {
   "cell_type": "code",
   "execution_count": null,
   "id": "a3691a0e",
   "metadata": {},
   "outputs": [],
   "source": []
  },
  {
   "cell_type": "code",
   "execution_count": 26,
   "id": "0cdc5ff9",
   "metadata": {},
   "outputs": [],
   "source": [
    "df4 = df2.na.drop(subset= columns)"
   ]
  },
  {
   "cell_type": "code",
   "execution_count": 27,
   "id": "cb84bf78",
   "metadata": {},
   "outputs": [
    {
     "data": {
      "text/plain": [
       "0"
      ]
     },
     "execution_count": 27,
     "metadata": {},
     "output_type": "execute_result"
    }
   ],
   "source": [
    "df4.filter(\"total_pymnt is null\").count()"
   ]
  },
  {
   "cell_type": "code",
   "execution_count": 28,
   "id": "a628c32e",
   "metadata": {},
   "outputs": [
    {
     "data": {
      "text/html": [
       "<table border='1'>\n",
       "<tr><th>loan_id</th><th>total_rec_prncp</th><th>total_rec_int</th><th>total_rec_late_fee</th><th>total_pymnt</th><th>last_pymnt_amnt</th><th>last_pymnt_d</th><th>next_pymnt_d</th><th>Time</th></tr>\n",
       "<tr><td>28654395</td><td>18134.86</td><td>10868.86</td><td>0.0</td><td>29003.72</td><td>547.24</td><td>Mar-2019</td><td>Apr-2019</td><td>2025-07-12 08:49:...</td></tr>\n",
       "<tr><td>28714308</td><td>10134.68</td><td>4648.3</td><td>0.0</td><td>14782.98</td><td>279.1</td><td>Mar-2019</td><td>Apr-2019</td><td>2025-07-12 08:49:...</td></tr>\n",
       "<tr><td>7383129</td><td>14472.21</td><td>5487.4</td><td>0.0</td><td>19959.61</td><td>375.33</td><td>Mar-2019</td><td>Apr-2019</td><td>2025-07-12 08:49:...</td></tr>\n",
       "<tr><td>28613524</td><td>12062.42</td><td>6639.6</td><td>0.0</td><td>18702.02</td><td>352.41</td><td>Mar-2019</td><td>Apr-2019</td><td>2025-07-12 08:49:...</td></tr>\n",
       "<tr><td>27512265</td><td>10157.19</td><td>4456.22</td><td>0.0</td><td>14613.41</td><td>275.2</td><td>Mar-2019</td><td>Apr-2019</td><td>2025-07-12 08:49:...</td></tr>\n",
       "</table>\n"
      ],
      "text/plain": [
       "+--------+---------------+-------------+------------------+-----------+---------------+------------+------------+--------------------+\n",
       "| loan_id|total_rec_prncp|total_rec_int|total_rec_late_fee|total_pymnt|last_pymnt_amnt|last_pymnt_d|next_pymnt_d|                Time|\n",
       "+--------+---------------+-------------+------------------+-----------+---------------+------------+------------+--------------------+\n",
       "|28654395|       18134.86|     10868.86|               0.0|   29003.72|         547.24|    Mar-2019|    Apr-2019|2025-07-12 08:49:...|\n",
       "|28714308|       10134.68|       4648.3|               0.0|   14782.98|          279.1|    Mar-2019|    Apr-2019|2025-07-12 08:49:...|\n",
       "| 7383129|       14472.21|       5487.4|               0.0|   19959.61|         375.33|    Mar-2019|    Apr-2019|2025-07-12 08:49:...|\n",
       "|28613524|       12062.42|       6639.6|               0.0|   18702.02|         352.41|    Mar-2019|    Apr-2019|2025-07-12 08:49:...|\n",
       "|27512265|       10157.19|      4456.22|               0.0|   14613.41|          275.2|    Mar-2019|    Apr-2019|2025-07-12 08:49:...|\n",
       "+--------+---------------+-------------+------------------+-----------+---------------+------------+------------+--------------------+"
      ]
     },
     "execution_count": 28,
     "metadata": {},
     "output_type": "execute_result"
    }
   ],
   "source": [
    "df4.limit(5)"
   ]
  },
  {
   "cell_type": "code",
   "execution_count": 29,
   "id": "d6d79d34",
   "metadata": {},
   "outputs": [
    {
     "data": {
      "text/plain": [
       "112"
      ]
     },
     "execution_count": 29,
     "metadata": {},
     "output_type": "execute_result"
    }
   ],
   "source": [
    "df4.filter(\"total_rec_int !=0.0 and total_pymnt == 0.0\").count()"
   ]
  },
  {
   "cell_type": "code",
   "execution_count": 30,
   "id": "1eae645b",
   "metadata": {},
   "outputs": [
    {
     "data": {
      "text/html": [
       "<table border='1'>\n",
       "<tr><th>loan_id</th><th>total_rec_prncp</th><th>total_rec_int</th><th>total_rec_late_fee</th><th>total_pymnt</th><th>last_pymnt_amnt</th><th>last_pymnt_d</th><th>next_pymnt_d</th><th>Time</th></tr>\n",
       "<tr><td>28654395</td><td>18134.86</td><td>10868.86</td><td>0.0</td><td>29003.72</td><td>547.24</td><td>Mar-2019</td><td>Apr-2019</td><td>2025-07-12 08:50:...</td></tr>\n",
       "<tr><td>28714308</td><td>10134.68</td><td>4648.3</td><td>0.0</td><td>14782.98</td><td>279.1</td><td>Mar-2019</td><td>Apr-2019</td><td>2025-07-12 08:50:...</td></tr>\n",
       "<tr><td>7383129</td><td>14472.21</td><td>5487.4</td><td>0.0</td><td>19959.61</td><td>375.33</td><td>Mar-2019</td><td>Apr-2019</td><td>2025-07-12 08:50:...</td></tr>\n",
       "<tr><td>28613524</td><td>12062.42</td><td>6639.6</td><td>0.0</td><td>18702.02</td><td>352.41</td><td>Mar-2019</td><td>Apr-2019</td><td>2025-07-12 08:50:...</td></tr>\n",
       "<tr><td>27512265</td><td>10157.19</td><td>4456.22</td><td>0.0</td><td>14613.41</td><td>275.2</td><td>Mar-2019</td><td>Apr-2019</td><td>2025-07-12 08:50:...</td></tr>\n",
       "</table>\n"
      ],
      "text/plain": [
       "+---------+---------------+-------------+------------------+-----------+---------------+------------+------------+--------------------+\n",
       "|  loan_id|total_rec_prncp|total_rec_int|total_rec_late_fee|total_pymnt|last_pymnt_amnt|last_pymnt_d|next_pymnt_d|                Time|\n",
       "+---------+---------------+-------------+------------------+-----------+---------------+------------+------------+--------------------+\n",
       "|141581221|        1055.81|       2591.7|               0.0|    3647.51|         709.23|    Mar-2019|    Apr-2019|2025-07-12 08:50:...|\n",
       "|141506948|        1252.75|       306.04|               0.0|    1558.79|         312.63|    Mar-2019|    Apr-2019|2025-07-12 08:50:...|\n",
       "|141357400|         626.37|       354.96|               0.0|     981.33|         197.27|    Mar-2019|    Apr-2019|2025-07-12 08:50:...|\n",
       "|139445427|        1118.16|       297.36|               0.0|    1415.52|         283.95|    Mar-2019|    Apr-2019|2025-07-12 08:50:...|\n",
       "|141407409|        1169.72|       3605.3|               0.0|    4775.02|          964.9|    Mar-2019|    Apr-2019|2025-07-12 08:50:...|\n",
       "+---------+---------------+-------------+------------------+-----------+---------------+------------+------------+--------------------+"
      ]
     },
     "execution_count": 30,
     "metadata": {},
     "output_type": "execute_result"
    }
   ],
   "source": [
    "df4.limit(5)"
   ]
  },
  {
   "cell_type": "code",
   "execution_count": 31,
   "id": "a3338992",
   "metadata": {},
   "outputs": [],
   "source": [
    "from pyspark.sql.functions import *"
   ]
  },
  {
   "cell_type": "code",
   "execution_count": 32,
   "id": "905d5707",
   "metadata": {},
   "outputs": [],
   "source": [
    "from pyspark.sql import *"
   ]
  },
  {
   "cell_type": "code",
   "execution_count": 33,
   "id": "ad30555b",
   "metadata": {},
   "outputs": [],
   "source": [
    "df5 = df4.withColumn(\n",
    "    \"total_pymnt\",\n",
    "    when(\n",
    "        (col(\"total_rec_prncp\") != 0.0) & (col(\"total_pymnt\") == 0.0),\n",
    "        col(\"total_rec_prncp\") + col(\"total_rec_int\") + col(\"total_rec_late_fee\")\n",
    "    ).otherwise(col(\"total_pymnt\"))\n",
    ")"
   ]
  },
  {
   "cell_type": "code",
   "execution_count": 34,
   "id": "95c4fe6b",
   "metadata": {},
   "outputs": [
    {
     "data": {
      "text/html": [
       "<table border='1'>\n",
       "<tr><th>loan_id</th><th>total_rec_prncp</th><th>total_rec_int</th><th>total_rec_late_fee</th><th>total_pymnt</th><th>last_pymnt_amnt</th><th>last_pymnt_d</th><th>next_pymnt_d</th><th>Time</th></tr>\n",
       "<tr><td>140764094</td><td>0.0</td><td>525.03</td><td>27.29</td><td>552.32</td><td>572.99</td><td>Dec-2018</td><td>Apr-2019</td><td>2025-07-12 08:50:...</td></tr>\n",
       "<tr><td>1067266</td><td>0.0</td><td>0.0</td><td>12290.6400143918</td><td>13.0</td><td>0.0</td><td>3890.64</td><td>0.0</td><td>2025-07-12 08:50:...</td></tr>\n",
       "<tr><td>746036</td><td>0.0</td><td>0.0</td><td>16794.8541507005</td><td>27.0</td><td>0.0</td><td>1794.85</td><td>0.0</td><td>2025-07-12 08:50:...</td></tr>\n",
       "<tr><td>740743</td><td>0.0</td><td>32576.740063679103</td><td>32111.36</td><td>f</td><td>0.0</td><td>0.0</td><td>0.0</td><td>2025-07-12 08:50:...</td></tr>\n",
       "<tr><td>533035</td><td>0.0</td><td>0.0</td><td>28336.187051024102</td><td>24.0</td><td>0.0</td><td>4336.19</td><td>0.0</td><td>2025-07-12 08:50:...</td></tr>\n",
       "</table>\n"
      ],
      "text/plain": [
       "+-------+---------------+----------------+------------------+-----------+---------------+---------------+------------+--------------------+\n",
       "|loan_id|total_rec_prncp|   total_rec_int|total_rec_late_fee|total_pymnt|last_pymnt_amnt|   last_pymnt_d|next_pymnt_d|                Time|\n",
       "+-------+---------------+----------------+------------------+-----------+---------------+---------------+------------+--------------------+\n",
       "| 423260|            0.0|10912.2213114591|          10912.22|          f|            0.0|            0.0|         0.0|2025-07-12 08:50:...|\n",
       "| 490374|            0.0|18674.4350149634|          16547.74|          f|            0.0|58.300000234551|         0.0|2025-07-12 08:50:...|\n",
       "| 487864|            0.0|16638.6664950179|          16625.23|          f|            0.0|            0.0|         0.0|2025-07-12 08:50:...|\n",
       "| 487129|            0.0| 9111.6018486602|           9098.16|          f|            0.0|            0.0|         0.0|2025-07-12 08:50:...|\n",
       "| 483207|            0.0|28064.3172954397|          27877.22|          f|            0.0|            0.0|         0.0|2025-07-12 08:50:...|\n",
       "+-------+---------------+----------------+------------------+-----------+---------------+---------------+------------+--------------------+"
      ]
     },
     "execution_count": 34,
     "metadata": {},
     "output_type": "execute_result"
    }
   ],
   "source": [
    "df5.filter(\"total_rec_prncp ==0.0\").limit(5)"
   ]
  },
  {
   "cell_type": "code",
   "execution_count": 35,
   "id": "0afab9b0",
   "metadata": {},
   "outputs": [
    {
     "name": "stdout",
     "output_type": "stream",
     "text": [
      "root\n",
      " |-- loan_id: string (nullable = true)\n",
      " |-- total_rec_prncp: string (nullable = true)\n",
      " |-- total_rec_int: string (nullable = true)\n",
      " |-- total_rec_late_fee: string (nullable = true)\n",
      " |-- total_pymnt: string (nullable = true)\n",
      " |-- last_pymnt_amnt: string (nullable = true)\n",
      " |-- last_pymnt_d: string (nullable = true)\n",
      " |-- next_pymnt_d: string (nullable = true)\n",
      " |-- Time: timestamp (nullable = false)\n",
      "\n"
     ]
    }
   ],
   "source": [
    "df5.printSchema()"
   ]
  },
  {
   "cell_type": "code",
   "execution_count": 36,
   "id": "c1839a9f",
   "metadata": {},
   "outputs": [],
   "source": [
    "df6 = df5.filter(\"total_rec_prncp != '0.0' and total_pymnt != 'f'\")"
   ]
  },
  {
   "cell_type": "code",
   "execution_count": 39,
   "id": "575dfe37",
   "metadata": {},
   "outputs": [
    {
     "data": {
      "text/html": [
       "<table border='1'>\n",
       "<tr><th>loan_id</th><th>total_rec_prncp</th><th>total_rec_int</th><th>total_rec_late_fee</th><th>total_pymnt</th><th>last_pymnt_amnt</th><th>last_pymnt_d</th><th>next_pymnt_d</th><th>Time</th></tr>\n",
       "<tr><td>141581221</td><td>1055.81</td><td>2591.7</td><td>0.0</td><td>3647.51</td><td>709.23</td><td>Mar-2019</td><td>Apr-2019</td><td>2025-07-12 08:50:...</td></tr>\n",
       "<tr><td>141506948</td><td>1252.75</td><td>306.04</td><td>0.0</td><td>1558.79</td><td>312.63</td><td>Mar-2019</td><td>Apr-2019</td><td>2025-07-12 08:50:...</td></tr>\n",
       "<tr><td>141357400</td><td>626.37</td><td>354.96</td><td>0.0</td><td>981.33</td><td>197.27</td><td>Mar-2019</td><td>Apr-2019</td><td>2025-07-12 08:50:...</td></tr>\n",
       "<tr><td>139445427</td><td>1118.16</td><td>297.36</td><td>0.0</td><td>1415.52</td><td>283.95</td><td>Mar-2019</td><td>Apr-2019</td><td>2025-07-12 08:50:...</td></tr>\n",
       "<tr><td>141407409</td><td>1169.72</td><td>3605.3</td><td>0.0</td><td>4775.02</td><td>964.9</td><td>Mar-2019</td><td>Apr-2019</td><td>2025-07-12 08:50:...</td></tr>\n",
       "</table>\n"
      ],
      "text/plain": [
       "+--------+---------------+-------------+------------------+-----------+---------------+------------+------------+--------------------+\n",
       "| loan_id|total_rec_prncp|total_rec_int|total_rec_late_fee|total_pymnt|last_pymnt_amnt|last_pymnt_d|next_pymnt_d|                Time|\n",
       "+--------+---------------+-------------+------------------+-----------+---------------+------------+------------+--------------------+\n",
       "|28654395|       18134.86|     10868.86|               0.0|   29003.72|         547.24|    Mar-2019|    Apr-2019|2025-07-12 08:50:...|\n",
       "|28714308|       10134.68|       4648.3|               0.0|   14782.98|          279.1|    Mar-2019|    Apr-2019|2025-07-12 08:50:...|\n",
       "| 7383129|       14472.21|       5487.4|               0.0|   19959.61|         375.33|    Mar-2019|    Apr-2019|2025-07-12 08:50:...|\n",
       "|28613524|       12062.42|       6639.6|               0.0|   18702.02|         352.41|    Mar-2019|    Apr-2019|2025-07-12 08:50:...|\n",
       "|27512265|       10157.19|      4456.22|               0.0|   14613.41|          275.2|    Mar-2019|    Apr-2019|2025-07-12 08:50:...|\n",
       "+--------+---------------+-------------+------------------+-----------+---------------+------------+------------+--------------------+"
      ]
     },
     "execution_count": 39,
     "metadata": {},
     "output_type": "execute_result"
    }
   ],
   "source": [
    "df6.limit(5)"
   ]
  },
  {
   "cell_type": "code",
   "execution_count": null,
   "id": "c2ffe1f3",
   "metadata": {},
   "outputs": [],
   "source": []
  },
  {
   "cell_type": "code",
   "execution_count": 42,
   "id": "1660d570",
   "metadata": {},
   "outputs": [],
   "source": [
    "df7 = df6.withColumn(\"last_pymnt_d\",\n",
    "                    when(col(\"last_pymnt_d\") == 0.0,\"None\").otherwise(col(\"last_pymnt_d\"))\n",
    "                     \n",
    "                     \n",
    "                    )"
   ]
  },
  {
   "cell_type": "code",
   "execution_count": 49,
   "id": "7ef7336c",
   "metadata": {},
   "outputs": [],
   "source": [
    "df8 = df7.withColumn(\"next_pymnt_d\",\n",
    "                    when(col(\"next_pymnt_d\") == 0.0,\"None\").otherwise(col(\"next_pymnt_d\"))\n",
    "                     \n",
    "                     \n",
    "                    )"
   ]
  },
  {
   "cell_type": "code",
   "execution_count": 50,
   "id": "fa5083df",
   "metadata": {},
   "outputs": [
    {
     "data": {
      "text/html": [
       "<table border='1'>\n",
       "<tr><th>loan_id</th><th>total_rec_prncp</th><th>total_rec_int</th><th>total_rec_late_fee</th><th>total_pymnt</th><th>last_pymnt_amnt</th><th>last_pymnt_d</th><th>next_pymnt_d</th><th>Time</th></tr>\n",
       "</table>\n"
      ],
      "text/plain": [
       "+-------+---------------+-------------+------------------+-----------+---------------+------------+------------+----+\n",
       "|loan_id|total_rec_prncp|total_rec_int|total_rec_late_fee|total_pymnt|last_pymnt_amnt|last_pymnt_d|next_pymnt_d|Time|\n",
       "+-------+---------------+-------------+------------------+-----------+---------------+------------+------------+----+\n",
       "+-------+---------------+-------------+------------------+-----------+---------------+------------+------------+----+"
      ]
     },
     "execution_count": 50,
     "metadata": {},
     "output_type": "execute_result"
    }
   ],
   "source": [
    "df8.filter(\"next_pymnt_d == 0.0\")"
   ]
  },
  {
   "cell_type": "code",
   "execution_count": null,
   "id": "29299601",
   "metadata": {},
   "outputs": [],
   "source": []
  }
 ],
 "metadata": {
  "kernelspec": {
   "display_name": "Pyspark 3",
   "language": "python",
   "name": "pyspark3"
  },
  "language_info": {
   "codemirror_mode": {
    "name": "ipython",
    "version": 3
   },
   "file_extension": ".py",
   "mimetype": "text/x-python",
   "name": "python",
   "nbconvert_exporter": "python",
   "pygments_lexer": "ipython3",
   "version": "3.6.12"
  }
 },
 "nbformat": 4,
 "nbformat_minor": 5
}
